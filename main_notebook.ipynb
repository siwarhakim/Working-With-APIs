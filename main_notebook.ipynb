{
 "cells": [
  {
   "cell_type": "markdown",
   "metadata": {},
   "source": [
    "# Use this notebook for your 3 choices of APIs"
   ]
  },
  {
   "cell_type": "markdown",
   "metadata": {},
   "source": [
    "### Whisky Data \n",
    "- https://whiskyhunter.net/ \n",
    "- Past online whisky auctions statistical data\t\n",
    "- API Info: https://whiskyhunter.net/api/  \n",
    "(no auth, yes hhtps)"
   ]
  },
  {
   "cell_type": "code",
   "execution_count": null,
   "metadata": {},
   "outputs": [],
   "source": [
    "import requests\n",
    "import pandas as pd\n",
    "\n",
    "url = 'https://whiskyhunter.net/api/auctions_data/'\n",
    "headers = {\n",
    "    'accept': 'application/json',\n",
    "    'X-CSRFToken': '7no6OEaBxe6oKKj1bMqmrD3hh8IxCBH1rVSk3S8x41S0V1n27sbppky4E2XG90va'\n",
    "}\n",
    "\n",
    "# Make a GET request\n",
    "response = requests.get(url, headers=headers)\n",
    "print(response.status_code)\n",
    "print(response.content)"
   ]
  },
  {
   "cell_type": "code",
   "execution_count": null,
   "metadata": {},
   "outputs": [],
   "source": [
    "result = response.json()\n",
    "#result # check "
   ]
  },
  {
   "cell_type": "code",
   "execution_count": null,
   "metadata": {},
   "outputs": [],
   "source": [
    "# convert JSON data to DataFrame\n",
    "df = pd.DataFrame.from_dict(result)\n",
    "df.head()"
   ]
  },
  {
   "cell_type": "markdown",
   "metadata": {},
   "source": [
    "> Project: try building a model that predicts the winning_bid_mean"
   ]
  },
  {
   "cell_type": "markdown",
   "metadata": {},
   "source": [
    "###  Data Chuck Norris Jokes\n",
    "- https://api.chucknorris.io/\n",
    "- Chuck Norris Jokes\n",
    "(no auth, yes hhtps)"
   ]
  },
  {
   "cell_type": "markdown",
   "metadata": {},
   "source": [
    "> returns one joke at a time, but you can also check their categories and retrieve a specific joke in given category"
   ]
  },
  {
   "cell_type": "code",
   "execution_count": null,
   "metadata": {},
   "outputs": [],
   "source": [
    "# # fetch available categories\n",
    "# url_categories = \"https://api.chucknorris.io/jokes/categories\"\n",
    "# response = requests.get(url_categories)\n",
    "# # print(response.content) # check\n",
    "# categories = response.json()\n",
    "# categories"
   ]
  },
  {
   "cell_type": "code",
   "execution_count": null,
   "metadata": {},
   "outputs": [],
   "source": [
    "import json\n",
    "\n",
    "url = 'https://api.chucknorris.io/jokes/random'\n",
    "response = requests.get(url)\n",
    "response.content\n",
    "# turn into dict from bytestring\n",
    "decoded_string = response.content.decode('utf-8')\n",
    "my_dict = json.loads(decoded_string)\n",
    "joke = my_dict.get('value')\n",
    "joke"
   ]
  },
  {
   "cell_type": "code",
   "execution_count": null,
   "metadata": {},
   "outputs": [],
   "source": [
    "list_jokes = []\n",
    "\n",
    "for i in range(10):\n",
    "    url = 'https://api.chucknorris.io/jokes/random'\n",
    "    response = requests.get(url)\n",
    "    decoded_string = response.content.decode('utf-8')\n",
    "    jokes_dict = json.loads(decoded_string)\n",
    "    joke = jokes_dict.get('value')\n",
    "    list_jokes.append(joke)"
   ]
  },
  {
   "cell_type": "code",
   "execution_count": null,
   "metadata": {},
   "outputs": [],
   "source": [
    "jokes = pd.DataFrame(list_jokes)\n",
    "jokes.columns = ['Joke']\n",
    "jokes"
   ]
  },
  {
   "cell_type": "markdown",
   "metadata": {},
   "source": [
    "> you can enjoy the data, have fun ;-)"
   ]
  },
  {
   "cell_type": "markdown",
   "metadata": {},
   "source": [
    "###  Data UPC-Database\n",
    "- https://upcdatabase.org/api-product-get\n",
    "- Barcodes\t\n",
    "(authkey, yes hhtps)"
   ]
  },
  {
   "cell_type": "code",
   "execution_count": 133,
   "metadata": {},
   "outputs": [
    {
     "name": "stdout",
     "output_type": "stream",
     "text": [
      "200\n",
      "b'{\\n    \"success\": true,\\n    \"email\": \"endres.jea@gmail.com\",\\n    \"registered\": 1715077572,\\n    \"active\": 1715077572,\\n    \"score\": 0,\\n    \"banned\": false,\\n    \"apikey_count\": \"1\",\\n    \"products\": {\\n        \"added\": \"96\",\\n        \"modified\": \"25\"\\n    },\\n    \"api_subscription\": {\\n        \"active\": false\\n    },\\n    \"api_limits\": {\\n        \"lookups\": null,\\n        \"searches\": null,\\n        \"currency\": null\\n    },\\n    \"api_remain\": {\\n        \"lookups\": \"96\",\\n        \"search\": \"25\",\\n        \"currency\": \"25\"\\n    },\\n    \"api_requests\": \"8\",\\n    \"timestamp\": 1715078976\\n}'\n"
     ]
    }
   ],
   "source": [
    "import requests\n",
    "import pandas as pd\n",
    "import getpass\n",
    "apikey = getpass.getpass()\n",
    "#E267A1F57187B289E93229F7406786CB\n",
    "\n",
    "url = 'https://api.upcdatabase.org/account'\n",
    "headers = {\n",
    "    'Authorization': 'Bearer ' + apikey,\n",
    "}\n",
    "response = requests.get(url, headers=headers)\n",
    "print(response.status_code)\n",
    "print(response.content)"
   ]
  },
  {
   "cell_type": "code",
   "execution_count": 134,
   "metadata": {},
   "outputs": [
    {
     "data": {
      "text/plain": [
       "{'success': True,\n",
       " 'email': 'endres.jea@gmail.com',\n",
       " 'registered': 1715077572,\n",
       " 'active': 1715077572,\n",
       " 'score': 0,\n",
       " 'banned': False,\n",
       " 'apikey_count': '1',\n",
       " 'products': {'added': '96', 'modified': '25'},\n",
       " 'api_subscription': {'active': False},\n",
       " 'api_limits': {'lookups': None, 'searches': None, 'currency': None},\n",
       " 'api_remain': {'lookups': '96', 'search': '25', 'currency': '25'},\n",
       " 'api_requests': '8',\n",
       " 'timestamp': 1715078976}"
      ]
     },
     "execution_count": 134,
     "metadata": {},
     "output_type": "execute_result"
    }
   ],
   "source": [
    "results = response.json()\n",
    "type(results)\n",
    "results"
   ]
  },
  {
   "cell_type": "code",
   "execution_count": 135,
   "metadata": {},
   "outputs": [
    {
     "data": {
      "text/html": [
       "<div>\n",
       "<style scoped>\n",
       "    .dataframe tbody tr th:only-of-type {\n",
       "        vertical-align: middle;\n",
       "    }\n",
       "\n",
       "    .dataframe tbody tr th {\n",
       "        vertical-align: top;\n",
       "    }\n",
       "\n",
       "    .dataframe thead th {\n",
       "        text-align: right;\n",
       "    }\n",
       "</style>\n",
       "<table border=\"1\" class=\"dataframe\">\n",
       "  <thead>\n",
       "    <tr style=\"text-align: right;\">\n",
       "      <th></th>\n",
       "      <th>email</th>\n",
       "      <th>banned</th>\n",
       "      <th>api_requests</th>\n",
       "    </tr>\n",
       "  </thead>\n",
       "  <tbody>\n",
       "    <tr>\n",
       "      <th>0</th>\n",
       "      <td>endres.jea@gmail.com</td>\n",
       "      <td>False</td>\n",
       "      <td>8</td>\n",
       "    </tr>\n",
       "  </tbody>\n",
       "</table>\n",
       "</div>"
      ],
      "text/plain": [
       "                  email banned api_requests\n",
       "0  endres.jea@gmail.com  False            8"
      ]
     },
     "execution_count": 135,
     "metadata": {},
     "output_type": "execute_result"
    }
   ],
   "source": [
    "data = pd.DataFrame.from_dict(results, orient=\"index\").T\n",
    "data = data[['email', 'banned', 'api_requests']]\n",
    "data"
   ]
  },
  {
   "cell_type": "markdown",
   "metadata": {},
   "source": [
    "> project on checking in on usage of api key"
   ]
  }
 ],
 "metadata": {
  "kernelspec": {
   "display_name": "Python 3",
   "language": "python",
   "name": "python3"
  },
  "language_info": {
   "codemirror_mode": {
    "name": "ipython",
    "version": 3
   },
   "file_extension": ".py",
   "mimetype": "text/x-python",
   "name": "python",
   "nbconvert_exporter": "python",
   "pygments_lexer": "ipython3",
   "version": "3.11.7"
  }
 },
 "nbformat": 4,
 "nbformat_minor": 4
}
